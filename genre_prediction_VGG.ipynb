{
  "nbformat": 4,
  "nbformat_minor": 0,
  "metadata": {
    "colab": {
      "name": "genre_prediction_VGG.ipynb",
      "provenance": [],
      "collapsed_sections": [],
      "machine_shape": "hm"
    },
    "kernelspec": {
      "name": "python3",
      "display_name": "Python 3"
    },
    "accelerator": "TPU"
  },
  "cells": [
    {
      "cell_type": "code",
      "metadata": {
        "id": "mPWM0vCE2q8b",
        "colab_type": "code",
        "colab": {}
      },
      "source": [
        "import pandas as pd\n",
        "import numpy as np\n",
        "import cv2\n",
        "\n",
        "import matplotlib.pyplot as plt\n",
        "\n",
        "% matplotlib inline"
      ],
      "execution_count": 0,
      "outputs": []
    },
    {
      "cell_type": "code",
      "metadata": {
        "id": "SwjftPZy2r6W",
        "colab_type": "code",
        "outputId": "1fb991a7-6db6-4032-e266-f61e32fbbb22",
        "colab": {
          "base_uri": "https://localhost:8080/",
          "height": 35
        }
      },
      "source": [
        "! git clone https://github.com/srijonsarkar/Movie-Genre-Prediction-from-Posters\n",
        "\n",
        "# github repo which stores all the movie posters downloaded by web-scraping, and the movie genre csv file"
      ],
      "execution_count": 0,
      "outputs": [
        {
          "output_type": "stream",
          "text": [
            "fatal: destination path 'ml-dataset' already exists and is not an empty directory.\n"
          ],
          "name": "stdout"
        }
      ]
    },
    {
      "cell_type": "code",
      "metadata": {
        "id": "ztzLH7Eh2sHo",
        "colab_type": "code",
        "outputId": "996e7927-da86-4f18-e15f-d159da335c65",
        "colab": {
          "base_uri": "https://localhost:8080/",
          "height": 363
        }
      },
      "source": [
        "df = pd.read_csv('ml-dataset/movies_metadata_modded.csv')\n",
        "df.head(10)"
      ],
      "execution_count": 0,
      "outputs": [
        {
          "output_type": "execute_result",
          "data": {
            "text/html": [
              "<div>\n",
              "<style scoped>\n",
              "    .dataframe tbody tr th:only-of-type {\n",
              "        vertical-align: middle;\n",
              "    }\n",
              "\n",
              "    .dataframe tbody tr th {\n",
              "        vertical-align: top;\n",
              "    }\n",
              "\n",
              "    .dataframe thead th {\n",
              "        text-align: right;\n",
              "    }\n",
              "</style>\n",
              "<table border=\"1\" class=\"dataframe\">\n",
              "  <thead>\n",
              "    <tr style=\"text-align: right;\">\n",
              "      <th></th>\n",
              "      <th>genres</th>\n",
              "      <th>id</th>\n",
              "      <th>imdb_id</th>\n",
              "      <th>original_language</th>\n",
              "      <th>release_date</th>\n",
              "    </tr>\n",
              "  </thead>\n",
              "  <tbody>\n",
              "    <tr>\n",
              "      <th>0</th>\n",
              "      <td>[{'id': 99, 'name': 'Documentary'}]</td>\n",
              "      <td>315946</td>\n",
              "      <td>tt3155794</td>\n",
              "      <td>xx</td>\n",
              "      <td>1874-12-09</td>\n",
              "    </tr>\n",
              "    <tr>\n",
              "      <th>1</th>\n",
              "      <td>[{'id': 99, 'name': 'Documentary'}]</td>\n",
              "      <td>194079</td>\n",
              "      <td>tt2221420</td>\n",
              "      <td>en</td>\n",
              "      <td>1878-06-14</td>\n",
              "    </tr>\n",
              "    <tr>\n",
              "      <th>2</th>\n",
              "      <td>[{'id': 99, 'name': 'Documentary'}]</td>\n",
              "      <td>426903</td>\n",
              "      <td>tt5459794</td>\n",
              "      <td>en</td>\n",
              "      <td>1883-11-19</td>\n",
              "    </tr>\n",
              "    <tr>\n",
              "      <th>3</th>\n",
              "      <td>[{'id': 99, 'name': 'Documentary'}]</td>\n",
              "      <td>159897</td>\n",
              "      <td>tt2075247</td>\n",
              "      <td>xx</td>\n",
              "      <td>1887-08-18</td>\n",
              "    </tr>\n",
              "    <tr>\n",
              "      <th>4</th>\n",
              "      <td>[{'id': 99, 'name': 'Documentary'}]</td>\n",
              "      <td>96882</td>\n",
              "      <td>tt1758563</td>\n",
              "      <td>xx</td>\n",
              "      <td>1888-01-01</td>\n",
              "    </tr>\n",
              "    <tr>\n",
              "      <th>5</th>\n",
              "      <td>[{'id': 99, 'name': 'Documentary'}]</td>\n",
              "      <td>16464</td>\n",
              "      <td>tt0343112</td>\n",
              "      <td>xx</td>\n",
              "      <td>1888-10-15</td>\n",
              "    </tr>\n",
              "    <tr>\n",
              "      <th>6</th>\n",
              "      <td>[{'id': 99, 'name': 'Documentary'}]</td>\n",
              "      <td>33316</td>\n",
              "      <td>tt1202028</td>\n",
              "      <td>xx</td>\n",
              "      <td>1890-01-01</td>\n",
              "    </tr>\n",
              "    <tr>\n",
              "      <th>7</th>\n",
              "      <td>[]</td>\n",
              "      <td>386743</td>\n",
              "      <td>tt5285442</td>\n",
              "      <td>en</td>\n",
              "      <td>1890-03-09</td>\n",
              "    </tr>\n",
              "    <tr>\n",
              "      <th>8</th>\n",
              "      <td>[{'id': 35, 'name': 'Comedy'}]</td>\n",
              "      <td>32571</td>\n",
              "      <td>tt0361921</td>\n",
              "      <td>en</td>\n",
              "      <td>1890-11-21</td>\n",
              "    </tr>\n",
              "    <tr>\n",
              "      <th>9</th>\n",
              "      <td>[]</td>\n",
              "      <td>33315</td>\n",
              "      <td>tt0416046</td>\n",
              "      <td>xx</td>\n",
              "      <td>1890-11-21</td>\n",
              "    </tr>\n",
              "  </tbody>\n",
              "</table>\n",
              "</div>"
            ],
            "text/plain": [
              "                                genres      id  ... original_language release_date\n",
              "0  [{'id': 99, 'name': 'Documentary'}]  315946  ...                xx   1874-12-09\n",
              "1  [{'id': 99, 'name': 'Documentary'}]  194079  ...                en   1878-06-14\n",
              "2  [{'id': 99, 'name': 'Documentary'}]  426903  ...                en   1883-11-19\n",
              "3  [{'id': 99, 'name': 'Documentary'}]  159897  ...                xx   1887-08-18\n",
              "4  [{'id': 99, 'name': 'Documentary'}]   96882  ...                xx   1888-01-01\n",
              "5  [{'id': 99, 'name': 'Documentary'}]   16464  ...                xx   1888-10-15\n",
              "6  [{'id': 99, 'name': 'Documentary'}]   33316  ...                xx   1890-01-01\n",
              "7                                   []  386743  ...                en   1890-03-09\n",
              "8       [{'id': 35, 'name': 'Comedy'}]   32571  ...                en   1890-11-21\n",
              "9                                   []   33315  ...                xx   1890-11-21\n",
              "\n",
              "[10 rows x 5 columns]"
            ]
          },
          "metadata": {
            "tags": []
          },
          "execution_count": 3
        }
      ]
    },
    {
      "cell_type": "code",
      "metadata": {
        "id": "DpguY7t_2sM_",
        "colab_type": "code",
        "outputId": "f5181212-7cdf-412c-fbf1-d52715e19cbe",
        "colab": {
          "base_uri": "https://localhost:8080/",
          "height": 35
        }
      },
      "source": [
        "# keeping only english movies in dataset\n",
        "df = df[df.original_language=='en'].copy()\n",
        "df.shape"
      ],
      "execution_count": 0,
      "outputs": [
        {
          "output_type": "execute_result",
          "data": {
            "text/plain": [
              "(32111, 5)"
            ]
          },
          "metadata": {
            "tags": []
          },
          "execution_count": 4
        }
      ]
    },
    {
      "cell_type": "code",
      "metadata": {
        "id": "4-0IsYc62sSm",
        "colab_type": "code",
        "colab": {}
      },
      "source": [
        "# have to remove movies released before 1990s\n",
        "df.release_date = df.release_date.astype('str')\n",
        "df.release_date = df.release_date.apply(lambda x : x[:4])"
      ],
      "execution_count": 0,
      "outputs": []
    },
    {
      "cell_type": "code",
      "metadata": {
        "id": "vp2rH9ZOINL2",
        "colab_type": "code",
        "outputId": "c310acaf-5f41-4624-e776-fa62113ca160",
        "colab": {
          "base_uri": "https://localhost:8080/",
          "height": 677
        }
      },
      "source": [
        "df.release_date = df.release_date.astype('int16')\n",
        "df2 = df[df.release_date >= 1990].copy()\n",
        "df2.head(20)"
      ],
      "execution_count": 0,
      "outputs": [
        {
          "output_type": "execute_result",
          "data": {
            "text/html": [
              "<div>\n",
              "<style scoped>\n",
              "    .dataframe tbody tr th:only-of-type {\n",
              "        vertical-align: middle;\n",
              "    }\n",
              "\n",
              "    .dataframe tbody tr th {\n",
              "        vertical-align: top;\n",
              "    }\n",
              "\n",
              "    .dataframe thead th {\n",
              "        text-align: right;\n",
              "    }\n",
              "</style>\n",
              "<table border=\"1\" class=\"dataframe\">\n",
              "  <thead>\n",
              "    <tr style=\"text-align: right;\">\n",
              "      <th></th>\n",
              "      <th>genres</th>\n",
              "      <th>id</th>\n",
              "      <th>imdb_id</th>\n",
              "      <th>original_language</th>\n",
              "      <th>release_date</th>\n",
              "    </tr>\n",
              "  </thead>\n",
              "  <tbody>\n",
              "    <tr>\n",
              "      <th>15648</th>\n",
              "      <td>[{'id': 35, 'name': 'Comedy'}, {'id': 18, 'nam...</td>\n",
              "      <td>44281</td>\n",
              "      <td>tt0090665</td>\n",
              "      <td>en</td>\n",
              "      <td>1990</td>\n",
              "    </tr>\n",
              "    <tr>\n",
              "      <th>15649</th>\n",
              "      <td>[{'id': 35, 'name': 'Comedy'}, {'id': 18, 'nam...</td>\n",
              "      <td>41927</td>\n",
              "      <td>tt0100822</td>\n",
              "      <td>en</td>\n",
              "      <td>1990</td>\n",
              "    </tr>\n",
              "    <tr>\n",
              "      <th>15650</th>\n",
              "      <td>[{'id': 36, 'name': 'History'}, {'id': 18, 'na...</td>\n",
              "      <td>8996</td>\n",
              "      <td>tt0099776</td>\n",
              "      <td>en</td>\n",
              "      <td>1990</td>\n",
              "    </tr>\n",
              "    <tr>\n",
              "      <th>15651</th>\n",
              "      <td>[{'id': 35, 'name': 'Comedy'}, {'id': 878, 'na...</td>\n",
              "      <td>57476</td>\n",
              "      <td>tt0100670</td>\n",
              "      <td>en</td>\n",
              "      <td>1990</td>\n",
              "    </tr>\n",
              "    <tr>\n",
              "      <th>15652</th>\n",
              "      <td>[{'id': 99, 'name': 'Documentary'}]</td>\n",
              "      <td>37447</td>\n",
              "      <td>tt0099121</td>\n",
              "      <td>en</td>\n",
              "      <td>1990</td>\n",
              "    </tr>\n",
              "    <tr>\n",
              "      <th>15653</th>\n",
              "      <td>[{'id': 10749, 'name': 'Romance'}, {'id': 53, ...</td>\n",
              "      <td>41925</td>\n",
              "      <td>tt0099292</td>\n",
              "      <td>en</td>\n",
              "      <td>1990</td>\n",
              "    </tr>\n",
              "    <tr>\n",
              "      <th>15655</th>\n",
              "      <td>[{'id': 27, 'name': 'Horror'}]</td>\n",
              "      <td>67515</td>\n",
              "      <td>tt0100079</td>\n",
              "      <td>en</td>\n",
              "      <td>1990</td>\n",
              "    </tr>\n",
              "    <tr>\n",
              "      <th>15658</th>\n",
              "      <td>[{'id': 10402, 'name': 'Music'}]</td>\n",
              "      <td>44257</td>\n",
              "      <td>tt0099844</td>\n",
              "      <td>en</td>\n",
              "      <td>1990</td>\n",
              "    </tr>\n",
              "    <tr>\n",
              "      <th>15659</th>\n",
              "      <td>[]</td>\n",
              "      <td>40959</td>\n",
              "      <td>tt0243199</td>\n",
              "      <td>en</td>\n",
              "      <td>1990</td>\n",
              "    </tr>\n",
              "    <tr>\n",
              "      <th>15661</th>\n",
              "      <td>[{'id': 28, 'name': 'Action'}, {'id': 53, 'nam...</td>\n",
              "      <td>13293</td>\n",
              "      <td>tt0099260</td>\n",
              "      <td>en</td>\n",
              "      <td>1990</td>\n",
              "    </tr>\n",
              "    <tr>\n",
              "      <th>15663</th>\n",
              "      <td>[{'id': 18, 'name': 'Drama'}, {'id': 10749, 'n...</td>\n",
              "      <td>41810</td>\n",
              "      <td>tt0099017</td>\n",
              "      <td>en</td>\n",
              "      <td>1990</td>\n",
              "    </tr>\n",
              "    <tr>\n",
              "      <th>15664</th>\n",
              "      <td>[{'id': 35, 'name': 'Comedy'}]</td>\n",
              "      <td>21811</td>\n",
              "      <td>tt0102940</td>\n",
              "      <td>en</td>\n",
              "      <td>1990</td>\n",
              "    </tr>\n",
              "    <tr>\n",
              "      <th>15665</th>\n",
              "      <td>[{'id': 16, 'name': 'Animation'}, {'id': 10751...</td>\n",
              "      <td>13759</td>\n",
              "      <td>tt0100281</td>\n",
              "      <td>en</td>\n",
              "      <td>1990</td>\n",
              "    </tr>\n",
              "    <tr>\n",
              "      <th>15666</th>\n",
              "      <td>[{'id': 18, 'name': 'Drama'}]</td>\n",
              "      <td>91138</td>\n",
              "      <td>tt0099796</td>\n",
              "      <td>en</td>\n",
              "      <td>1990</td>\n",
              "    </tr>\n",
              "    <tr>\n",
              "      <th>15667</th>\n",
              "      <td>[{'id': 878, 'name': 'Science Fiction'}]</td>\n",
              "      <td>30647</td>\n",
              "      <td>tt0098962</td>\n",
              "      <td>en</td>\n",
              "      <td>1990</td>\n",
              "    </tr>\n",
              "    <tr>\n",
              "      <th>15669</th>\n",
              "      <td>[{'id': 53, 'name': 'Thriller'}, {'id': 28, 'n...</td>\n",
              "      <td>31942</td>\n",
              "      <td>tt0100148</td>\n",
              "      <td>en</td>\n",
              "      <td>1990</td>\n",
              "    </tr>\n",
              "    <tr>\n",
              "      <th>15670</th>\n",
              "      <td>[]</td>\n",
              "      <td>251489</td>\n",
              "      <td>tt0099463</td>\n",
              "      <td>en</td>\n",
              "      <td>1990</td>\n",
              "    </tr>\n",
              "    <tr>\n",
              "      <th>15672</th>\n",
              "      <td>[{'id': 12, 'name': 'Adventure'}, {'id': 14, '...</td>\n",
              "      <td>5086</td>\n",
              "      <td>tt0100448</td>\n",
              "      <td>en</td>\n",
              "      <td>1990</td>\n",
              "    </tr>\n",
              "    <tr>\n",
              "      <th>15675</th>\n",
              "      <td>[{'id': 14, 'name': 'Fantasy'}, {'id': 878, 'n...</td>\n",
              "      <td>31647</td>\n",
              "      <td>tt0102569</td>\n",
              "      <td>en</td>\n",
              "      <td>1990</td>\n",
              "    </tr>\n",
              "    <tr>\n",
              "      <th>15681</th>\n",
              "      <td>[{'id': 878, 'name': 'Science Fiction'}, {'id'...</td>\n",
              "      <td>24862</td>\n",
              "      <td>tt0099313</td>\n",
              "      <td>en</td>\n",
              "      <td>1990</td>\n",
              "    </tr>\n",
              "  </tbody>\n",
              "</table>\n",
              "</div>"
            ],
            "text/plain": [
              "                                                  genres  ...  release_date\n",
              "15648  [{'id': 35, 'name': 'Comedy'}, {'id': 18, 'nam...  ...          1990\n",
              "15649  [{'id': 35, 'name': 'Comedy'}, {'id': 18, 'nam...  ...          1990\n",
              "15650  [{'id': 36, 'name': 'History'}, {'id': 18, 'na...  ...          1990\n",
              "15651  [{'id': 35, 'name': 'Comedy'}, {'id': 878, 'na...  ...          1990\n",
              "15652                [{'id': 99, 'name': 'Documentary'}]  ...          1990\n",
              "15653  [{'id': 10749, 'name': 'Romance'}, {'id': 53, ...  ...          1990\n",
              "15655                     [{'id': 27, 'name': 'Horror'}]  ...          1990\n",
              "15658                   [{'id': 10402, 'name': 'Music'}]  ...          1990\n",
              "15659                                                 []  ...          1990\n",
              "15661  [{'id': 28, 'name': 'Action'}, {'id': 53, 'nam...  ...          1990\n",
              "15663  [{'id': 18, 'name': 'Drama'}, {'id': 10749, 'n...  ...          1990\n",
              "15664                     [{'id': 35, 'name': 'Comedy'}]  ...          1990\n",
              "15665  [{'id': 16, 'name': 'Animation'}, {'id': 10751...  ...          1990\n",
              "15666                      [{'id': 18, 'name': 'Drama'}]  ...          1990\n",
              "15667           [{'id': 878, 'name': 'Science Fiction'}]  ...          1990\n",
              "15669  [{'id': 53, 'name': 'Thriller'}, {'id': 28, 'n...  ...          1990\n",
              "15670                                                 []  ...          1990\n",
              "15672  [{'id': 12, 'name': 'Adventure'}, {'id': 14, '...  ...          1990\n",
              "15675  [{'id': 14, 'name': 'Fantasy'}, {'id': 878, 'n...  ...          1990\n",
              "15681  [{'id': 878, 'name': 'Science Fiction'}, {'id'...  ...          1990\n",
              "\n",
              "[20 rows x 5 columns]"
            ]
          },
          "metadata": {
            "tags": []
          },
          "execution_count": 6
        }
      ]
    },
    {
      "cell_type": "code",
      "metadata": {
        "id": "a8O04x67-x45",
        "colab_type": "code",
        "outputId": "852e926b-ebed-4f85-e820-738db23a5d18",
        "colab": {
          "base_uri": "https://localhost:8080/",
          "height": 35
        }
      },
      "source": [
        "df.dropna(inplace=True)\n",
        "df.shape"
      ],
      "execution_count": 0,
      "outputs": [
        {
          "output_type": "execute_result",
          "data": {
            "text/plain": [
              "(32101, 5)"
            ]
          },
          "metadata": {
            "tags": []
          },
          "execution_count": 7
        }
      ]
    },
    {
      "cell_type": "code",
      "metadata": {
        "id": "tNnpcum72sd_",
        "colab_type": "code",
        "outputId": "4c4708c8-9276-4dba-8b76-662772d08335",
        "colab": {
          "base_uri": "https://localhost:8080/",
          "height": 363
        }
      },
      "source": [
        "df2.head(10)"
      ],
      "execution_count": 0,
      "outputs": [
        {
          "output_type": "execute_result",
          "data": {
            "text/html": [
              "<div>\n",
              "<style scoped>\n",
              "    .dataframe tbody tr th:only-of-type {\n",
              "        vertical-align: middle;\n",
              "    }\n",
              "\n",
              "    .dataframe tbody tr th {\n",
              "        vertical-align: top;\n",
              "    }\n",
              "\n",
              "    .dataframe thead th {\n",
              "        text-align: right;\n",
              "    }\n",
              "</style>\n",
              "<table border=\"1\" class=\"dataframe\">\n",
              "  <thead>\n",
              "    <tr style=\"text-align: right;\">\n",
              "      <th></th>\n",
              "      <th>genres</th>\n",
              "      <th>id</th>\n",
              "      <th>imdb_id</th>\n",
              "      <th>original_language</th>\n",
              "      <th>release_date</th>\n",
              "    </tr>\n",
              "  </thead>\n",
              "  <tbody>\n",
              "    <tr>\n",
              "      <th>15648</th>\n",
              "      <td>[{'id': 35, 'name': 'Comedy'}, {'id': 18, 'nam...</td>\n",
              "      <td>44281</td>\n",
              "      <td>tt0090665</td>\n",
              "      <td>en</td>\n",
              "      <td>1990</td>\n",
              "    </tr>\n",
              "    <tr>\n",
              "      <th>15649</th>\n",
              "      <td>[{'id': 35, 'name': 'Comedy'}, {'id': 18, 'nam...</td>\n",
              "      <td>41927</td>\n",
              "      <td>tt0100822</td>\n",
              "      <td>en</td>\n",
              "      <td>1990</td>\n",
              "    </tr>\n",
              "    <tr>\n",
              "      <th>15650</th>\n",
              "      <td>[{'id': 36, 'name': 'History'}, {'id': 18, 'na...</td>\n",
              "      <td>8996</td>\n",
              "      <td>tt0099776</td>\n",
              "      <td>en</td>\n",
              "      <td>1990</td>\n",
              "    </tr>\n",
              "    <tr>\n",
              "      <th>15651</th>\n",
              "      <td>[{'id': 35, 'name': 'Comedy'}, {'id': 878, 'na...</td>\n",
              "      <td>57476</td>\n",
              "      <td>tt0100670</td>\n",
              "      <td>en</td>\n",
              "      <td>1990</td>\n",
              "    </tr>\n",
              "    <tr>\n",
              "      <th>15652</th>\n",
              "      <td>[{'id': 99, 'name': 'Documentary'}]</td>\n",
              "      <td>37447</td>\n",
              "      <td>tt0099121</td>\n",
              "      <td>en</td>\n",
              "      <td>1990</td>\n",
              "    </tr>\n",
              "    <tr>\n",
              "      <th>15653</th>\n",
              "      <td>[{'id': 10749, 'name': 'Romance'}, {'id': 53, ...</td>\n",
              "      <td>41925</td>\n",
              "      <td>tt0099292</td>\n",
              "      <td>en</td>\n",
              "      <td>1990</td>\n",
              "    </tr>\n",
              "    <tr>\n",
              "      <th>15655</th>\n",
              "      <td>[{'id': 27, 'name': 'Horror'}]</td>\n",
              "      <td>67515</td>\n",
              "      <td>tt0100079</td>\n",
              "      <td>en</td>\n",
              "      <td>1990</td>\n",
              "    </tr>\n",
              "    <tr>\n",
              "      <th>15658</th>\n",
              "      <td>[{'id': 10402, 'name': 'Music'}]</td>\n",
              "      <td>44257</td>\n",
              "      <td>tt0099844</td>\n",
              "      <td>en</td>\n",
              "      <td>1990</td>\n",
              "    </tr>\n",
              "    <tr>\n",
              "      <th>15659</th>\n",
              "      <td>[]</td>\n",
              "      <td>40959</td>\n",
              "      <td>tt0243199</td>\n",
              "      <td>en</td>\n",
              "      <td>1990</td>\n",
              "    </tr>\n",
              "    <tr>\n",
              "      <th>15661</th>\n",
              "      <td>[{'id': 28, 'name': 'Action'}, {'id': 53, 'nam...</td>\n",
              "      <td>13293</td>\n",
              "      <td>tt0099260</td>\n",
              "      <td>en</td>\n",
              "      <td>1990</td>\n",
              "    </tr>\n",
              "  </tbody>\n",
              "</table>\n",
              "</div>"
            ],
            "text/plain": [
              "                                                  genres  ...  release_date\n",
              "15648  [{'id': 35, 'name': 'Comedy'}, {'id': 18, 'nam...  ...          1990\n",
              "15649  [{'id': 35, 'name': 'Comedy'}, {'id': 18, 'nam...  ...          1990\n",
              "15650  [{'id': 36, 'name': 'History'}, {'id': 18, 'na...  ...          1990\n",
              "15651  [{'id': 35, 'name': 'Comedy'}, {'id': 878, 'na...  ...          1990\n",
              "15652                [{'id': 99, 'name': 'Documentary'}]  ...          1990\n",
              "15653  [{'id': 10749, 'name': 'Romance'}, {'id': 53, ...  ...          1990\n",
              "15655                     [{'id': 27, 'name': 'Horror'}]  ...          1990\n",
              "15658                   [{'id': 10402, 'name': 'Music'}]  ...          1990\n",
              "15659                                                 []  ...          1990\n",
              "15661  [{'id': 28, 'name': 'Action'}, {'id': 53, 'nam...  ...          1990\n",
              "\n",
              "[10 rows x 5 columns]"
            ]
          },
          "metadata": {
            "tags": []
          },
          "execution_count": 8
        }
      ]
    },
    {
      "cell_type": "code",
      "metadata": {
        "id": "fduz3FCn70Oh",
        "colab_type": "code",
        "outputId": "6f9d9886-f3d3-46a0-cc1c-30fb3820f3e6",
        "colab": {
          "base_uri": "https://localhost:8080/",
          "height": 206
        }
      },
      "source": [
        "df2.reset_index(inplace=True)\n",
        "df2.head()"
      ],
      "execution_count": 0,
      "outputs": [
        {
          "output_type": "execute_result",
          "data": {
            "text/html": [
              "<div>\n",
              "<style scoped>\n",
              "    .dataframe tbody tr th:only-of-type {\n",
              "        vertical-align: middle;\n",
              "    }\n",
              "\n",
              "    .dataframe tbody tr th {\n",
              "        vertical-align: top;\n",
              "    }\n",
              "\n",
              "    .dataframe thead th {\n",
              "        text-align: right;\n",
              "    }\n",
              "</style>\n",
              "<table border=\"1\" class=\"dataframe\">\n",
              "  <thead>\n",
              "    <tr style=\"text-align: right;\">\n",
              "      <th></th>\n",
              "      <th>index</th>\n",
              "      <th>genres</th>\n",
              "      <th>id</th>\n",
              "      <th>imdb_id</th>\n",
              "      <th>original_language</th>\n",
              "      <th>release_date</th>\n",
              "    </tr>\n",
              "  </thead>\n",
              "  <tbody>\n",
              "    <tr>\n",
              "      <th>0</th>\n",
              "      <td>15648</td>\n",
              "      <td>[{'id': 35, 'name': 'Comedy'}, {'id': 18, 'nam...</td>\n",
              "      <td>44281</td>\n",
              "      <td>tt0090665</td>\n",
              "      <td>en</td>\n",
              "      <td>1990</td>\n",
              "    </tr>\n",
              "    <tr>\n",
              "      <th>1</th>\n",
              "      <td>15649</td>\n",
              "      <td>[{'id': 35, 'name': 'Comedy'}, {'id': 18, 'nam...</td>\n",
              "      <td>41927</td>\n",
              "      <td>tt0100822</td>\n",
              "      <td>en</td>\n",
              "      <td>1990</td>\n",
              "    </tr>\n",
              "    <tr>\n",
              "      <th>2</th>\n",
              "      <td>15650</td>\n",
              "      <td>[{'id': 36, 'name': 'History'}, {'id': 18, 'na...</td>\n",
              "      <td>8996</td>\n",
              "      <td>tt0099776</td>\n",
              "      <td>en</td>\n",
              "      <td>1990</td>\n",
              "    </tr>\n",
              "    <tr>\n",
              "      <th>3</th>\n",
              "      <td>15651</td>\n",
              "      <td>[{'id': 35, 'name': 'Comedy'}, {'id': 878, 'na...</td>\n",
              "      <td>57476</td>\n",
              "      <td>tt0100670</td>\n",
              "      <td>en</td>\n",
              "      <td>1990</td>\n",
              "    </tr>\n",
              "    <tr>\n",
              "      <th>4</th>\n",
              "      <td>15652</td>\n",
              "      <td>[{'id': 99, 'name': 'Documentary'}]</td>\n",
              "      <td>37447</td>\n",
              "      <td>tt0099121</td>\n",
              "      <td>en</td>\n",
              "      <td>1990</td>\n",
              "    </tr>\n",
              "  </tbody>\n",
              "</table>\n",
              "</div>"
            ],
            "text/plain": [
              "   index  ... release_date\n",
              "0  15648  ...         1990\n",
              "1  15649  ...         1990\n",
              "2  15650  ...         1990\n",
              "3  15651  ...         1990\n",
              "4  15652  ...         1990\n",
              "\n",
              "[5 rows x 6 columns]"
            ]
          },
          "metadata": {
            "tags": []
          },
          "execution_count": 9
        }
      ]
    },
    {
      "cell_type": "code",
      "metadata": {
        "id": "ZtSOLcb370L8",
        "colab_type": "code",
        "outputId": "465d027a-4916-4d2a-c838-053835ed2184",
        "colab": {
          "base_uri": "https://localhost:8080/",
          "height": 206
        }
      },
      "source": [
        "df2.drop('index', axis=1, inplace=True)\n",
        "df2.head()"
      ],
      "execution_count": 0,
      "outputs": [
        {
          "output_type": "execute_result",
          "data": {
            "text/html": [
              "<div>\n",
              "<style scoped>\n",
              "    .dataframe tbody tr th:only-of-type {\n",
              "        vertical-align: middle;\n",
              "    }\n",
              "\n",
              "    .dataframe tbody tr th {\n",
              "        vertical-align: top;\n",
              "    }\n",
              "\n",
              "    .dataframe thead th {\n",
              "        text-align: right;\n",
              "    }\n",
              "</style>\n",
              "<table border=\"1\" class=\"dataframe\">\n",
              "  <thead>\n",
              "    <tr style=\"text-align: right;\">\n",
              "      <th></th>\n",
              "      <th>genres</th>\n",
              "      <th>id</th>\n",
              "      <th>imdb_id</th>\n",
              "      <th>original_language</th>\n",
              "      <th>release_date</th>\n",
              "    </tr>\n",
              "  </thead>\n",
              "  <tbody>\n",
              "    <tr>\n",
              "      <th>0</th>\n",
              "      <td>[{'id': 35, 'name': 'Comedy'}, {'id': 18, 'nam...</td>\n",
              "      <td>44281</td>\n",
              "      <td>tt0090665</td>\n",
              "      <td>en</td>\n",
              "      <td>1990</td>\n",
              "    </tr>\n",
              "    <tr>\n",
              "      <th>1</th>\n",
              "      <td>[{'id': 35, 'name': 'Comedy'}, {'id': 18, 'nam...</td>\n",
              "      <td>41927</td>\n",
              "      <td>tt0100822</td>\n",
              "      <td>en</td>\n",
              "      <td>1990</td>\n",
              "    </tr>\n",
              "    <tr>\n",
              "      <th>2</th>\n",
              "      <td>[{'id': 36, 'name': 'History'}, {'id': 18, 'na...</td>\n",
              "      <td>8996</td>\n",
              "      <td>tt0099776</td>\n",
              "      <td>en</td>\n",
              "      <td>1990</td>\n",
              "    </tr>\n",
              "    <tr>\n",
              "      <th>3</th>\n",
              "      <td>[{'id': 35, 'name': 'Comedy'}, {'id': 878, 'na...</td>\n",
              "      <td>57476</td>\n",
              "      <td>tt0100670</td>\n",
              "      <td>en</td>\n",
              "      <td>1990</td>\n",
              "    </tr>\n",
              "    <tr>\n",
              "      <th>4</th>\n",
              "      <td>[{'id': 99, 'name': 'Documentary'}]</td>\n",
              "      <td>37447</td>\n",
              "      <td>tt0099121</td>\n",
              "      <td>en</td>\n",
              "      <td>1990</td>\n",
              "    </tr>\n",
              "  </tbody>\n",
              "</table>\n",
              "</div>"
            ],
            "text/plain": [
              "                                              genres  ...  release_date\n",
              "0  [{'id': 35, 'name': 'Comedy'}, {'id': 18, 'nam...  ...          1990\n",
              "1  [{'id': 35, 'name': 'Comedy'}, {'id': 18, 'nam...  ...          1990\n",
              "2  [{'id': 36, 'name': 'History'}, {'id': 18, 'na...  ...          1990\n",
              "3  [{'id': 35, 'name': 'Comedy'}, {'id': 878, 'na...  ...          1990\n",
              "4                [{'id': 99, 'name': 'Documentary'}]  ...          1990\n",
              "\n",
              "[5 rows x 5 columns]"
            ]
          },
          "metadata": {
            "tags": []
          },
          "execution_count": 10
        }
      ]
    },
    {
      "cell_type": "code",
      "metadata": {
        "id": "tKfEnAcS85ID",
        "colab_type": "code",
        "outputId": "e7db84c5-95c8-42ee-d4ed-9be48b97ad51",
        "colab": {
          "base_uri": "https://localhost:8080/",
          "height": 35
        }
      },
      "source": [
        "# remove duplicate rows from df2\n",
        "\n",
        "df2.drop_duplicates('imdb_id', inplace=True)\n",
        "df2.shape"
      ],
      "execution_count": 0,
      "outputs": [
        {
          "output_type": "execute_result",
          "data": {
            "text/plain": [
              "(20896, 5)"
            ]
          },
          "metadata": {
            "tags": []
          },
          "execution_count": 11
        }
      ]
    },
    {
      "cell_type": "code",
      "metadata": {
        "id": "IsfMxhca_Nxx",
        "colab_type": "code",
        "colab": {}
      },
      "source": [
        "df2.reset_index(inplace=True)"
      ],
      "execution_count": 0,
      "outputs": []
    },
    {
      "cell_type": "code",
      "metadata": {
        "id": "66byHhm9_N36",
        "colab_type": "code",
        "outputId": "d0e63624-0ea1-4f1f-9e1f-3e8784562fc1",
        "colab": {
          "base_uri": "https://localhost:8080/",
          "height": 206
        }
      },
      "source": [
        "df2.drop('index',axis=1,inplace=True)\n",
        "df2.head()"
      ],
      "execution_count": 0,
      "outputs": [
        {
          "output_type": "execute_result",
          "data": {
            "text/html": [
              "<div>\n",
              "<style scoped>\n",
              "    .dataframe tbody tr th:only-of-type {\n",
              "        vertical-align: middle;\n",
              "    }\n",
              "\n",
              "    .dataframe tbody tr th {\n",
              "        vertical-align: top;\n",
              "    }\n",
              "\n",
              "    .dataframe thead th {\n",
              "        text-align: right;\n",
              "    }\n",
              "</style>\n",
              "<table border=\"1\" class=\"dataframe\">\n",
              "  <thead>\n",
              "    <tr style=\"text-align: right;\">\n",
              "      <th></th>\n",
              "      <th>genres</th>\n",
              "      <th>id</th>\n",
              "      <th>imdb_id</th>\n",
              "      <th>original_language</th>\n",
              "      <th>release_date</th>\n",
              "    </tr>\n",
              "  </thead>\n",
              "  <tbody>\n",
              "    <tr>\n",
              "      <th>0</th>\n",
              "      <td>[{'id': 35, 'name': 'Comedy'}, {'id': 18, 'nam...</td>\n",
              "      <td>44281</td>\n",
              "      <td>tt0090665</td>\n",
              "      <td>en</td>\n",
              "      <td>1990</td>\n",
              "    </tr>\n",
              "    <tr>\n",
              "      <th>1</th>\n",
              "      <td>[{'id': 35, 'name': 'Comedy'}, {'id': 18, 'nam...</td>\n",
              "      <td>41927</td>\n",
              "      <td>tt0100822</td>\n",
              "      <td>en</td>\n",
              "      <td>1990</td>\n",
              "    </tr>\n",
              "    <tr>\n",
              "      <th>2</th>\n",
              "      <td>[{'id': 36, 'name': 'History'}, {'id': 18, 'na...</td>\n",
              "      <td>8996</td>\n",
              "      <td>tt0099776</td>\n",
              "      <td>en</td>\n",
              "      <td>1990</td>\n",
              "    </tr>\n",
              "    <tr>\n",
              "      <th>3</th>\n",
              "      <td>[{'id': 35, 'name': 'Comedy'}, {'id': 878, 'na...</td>\n",
              "      <td>57476</td>\n",
              "      <td>tt0100670</td>\n",
              "      <td>en</td>\n",
              "      <td>1990</td>\n",
              "    </tr>\n",
              "    <tr>\n",
              "      <th>4</th>\n",
              "      <td>[{'id': 99, 'name': 'Documentary'}]</td>\n",
              "      <td>37447</td>\n",
              "      <td>tt0099121</td>\n",
              "      <td>en</td>\n",
              "      <td>1990</td>\n",
              "    </tr>\n",
              "  </tbody>\n",
              "</table>\n",
              "</div>"
            ],
            "text/plain": [
              "                                              genres  ...  release_date\n",
              "0  [{'id': 35, 'name': 'Comedy'}, {'id': 18, 'nam...  ...          1990\n",
              "1  [{'id': 35, 'name': 'Comedy'}, {'id': 18, 'nam...  ...          1990\n",
              "2  [{'id': 36, 'name': 'History'}, {'id': 18, 'na...  ...          1990\n",
              "3  [{'id': 35, 'name': 'Comedy'}, {'id': 878, 'na...  ...          1990\n",
              "4                [{'id': 99, 'name': 'Documentary'}]  ...          1990\n",
              "\n",
              "[5 rows x 5 columns]"
            ]
          },
          "metadata": {
            "tags": []
          },
          "execution_count": 13
        }
      ]
    },
    {
      "cell_type": "code",
      "metadata": {
        "id": "PCGz6e7X2sgn",
        "colab_type": "code",
        "outputId": "108428c2-c853-4938-be65-5ee3621fdd93",
        "colab": {
          "base_uri": "https://localhost:8080/",
          "height": 35
        }
      },
      "source": [
        "# now we have only english movies released after 1990 in our dataset df2\n",
        "# need to remove movies which don't have any genres specified\n",
        "\n",
        "l=[]\n",
        "for i in range(len(df2)):\n",
        "    if len(eval(df2.iloc[i,0]))==0:\n",
        "        l.append(i)\n",
        "        \n",
        "print(len(l))\n",
        "  "
      ],
      "execution_count": 0,
      "outputs": [
        {
          "output_type": "stream",
          "text": [
            "1050\n"
          ],
          "name": "stdout"
        }
      ]
    },
    {
      "cell_type": "code",
      "metadata": {
        "id": "XwLXbLC42sk1",
        "colab_type": "code",
        "outputId": "b8f8cf46-a6d7-4125-bb0e-c95bbedf3b41",
        "colab": {
          "base_uri": "https://localhost:8080/",
          "height": 35
        }
      },
      "source": [
        "# need to drop these 1050 rows\n",
        "\n",
        "df2.drop(l, inplace=True)\n",
        "df2.shape"
      ],
      "execution_count": 0,
      "outputs": [
        {
          "output_type": "execute_result",
          "data": {
            "text/plain": [
              "(19846, 5)"
            ]
          },
          "metadata": {
            "tags": []
          },
          "execution_count": 15
        }
      ]
    },
    {
      "cell_type": "code",
      "metadata": {
        "id": "pSZA40QOEedH",
        "colab_type": "code",
        "outputId": "3c51e61f-ed17-4456-cab8-71cae68f2d03",
        "colab": {
          "base_uri": "https://localhost:8080/",
          "height": 206
        }
      },
      "source": [
        "df2.reset_index(inplace=True)\n",
        "df2.drop('index',axis=1,inplace=True)\n",
        "df2.head()"
      ],
      "execution_count": 0,
      "outputs": [
        {
          "output_type": "execute_result",
          "data": {
            "text/html": [
              "<div>\n",
              "<style scoped>\n",
              "    .dataframe tbody tr th:only-of-type {\n",
              "        vertical-align: middle;\n",
              "    }\n",
              "\n",
              "    .dataframe tbody tr th {\n",
              "        vertical-align: top;\n",
              "    }\n",
              "\n",
              "    .dataframe thead th {\n",
              "        text-align: right;\n",
              "    }\n",
              "</style>\n",
              "<table border=\"1\" class=\"dataframe\">\n",
              "  <thead>\n",
              "    <tr style=\"text-align: right;\">\n",
              "      <th></th>\n",
              "      <th>genres</th>\n",
              "      <th>id</th>\n",
              "      <th>imdb_id</th>\n",
              "      <th>original_language</th>\n",
              "      <th>release_date</th>\n",
              "    </tr>\n",
              "  </thead>\n",
              "  <tbody>\n",
              "    <tr>\n",
              "      <th>0</th>\n",
              "      <td>[{'id': 35, 'name': 'Comedy'}, {'id': 18, 'nam...</td>\n",
              "      <td>44281</td>\n",
              "      <td>tt0090665</td>\n",
              "      <td>en</td>\n",
              "      <td>1990</td>\n",
              "    </tr>\n",
              "    <tr>\n",
              "      <th>1</th>\n",
              "      <td>[{'id': 35, 'name': 'Comedy'}, {'id': 18, 'nam...</td>\n",
              "      <td>41927</td>\n",
              "      <td>tt0100822</td>\n",
              "      <td>en</td>\n",
              "      <td>1990</td>\n",
              "    </tr>\n",
              "    <tr>\n",
              "      <th>2</th>\n",
              "      <td>[{'id': 36, 'name': 'History'}, {'id': 18, 'na...</td>\n",
              "      <td>8996</td>\n",
              "      <td>tt0099776</td>\n",
              "      <td>en</td>\n",
              "      <td>1990</td>\n",
              "    </tr>\n",
              "    <tr>\n",
              "      <th>3</th>\n",
              "      <td>[{'id': 35, 'name': 'Comedy'}, {'id': 878, 'na...</td>\n",
              "      <td>57476</td>\n",
              "      <td>tt0100670</td>\n",
              "      <td>en</td>\n",
              "      <td>1990</td>\n",
              "    </tr>\n",
              "    <tr>\n",
              "      <th>4</th>\n",
              "      <td>[{'id': 99, 'name': 'Documentary'}]</td>\n",
              "      <td>37447</td>\n",
              "      <td>tt0099121</td>\n",
              "      <td>en</td>\n",
              "      <td>1990</td>\n",
              "    </tr>\n",
              "  </tbody>\n",
              "</table>\n",
              "</div>"
            ],
            "text/plain": [
              "                                              genres  ...  release_date\n",
              "0  [{'id': 35, 'name': 'Comedy'}, {'id': 18, 'nam...  ...          1990\n",
              "1  [{'id': 35, 'name': 'Comedy'}, {'id': 18, 'nam...  ...          1990\n",
              "2  [{'id': 36, 'name': 'History'}, {'id': 18, 'na...  ...          1990\n",
              "3  [{'id': 35, 'name': 'Comedy'}, {'id': 878, 'na...  ...          1990\n",
              "4                [{'id': 99, 'name': 'Documentary'}]  ...          1990\n",
              "\n",
              "[5 rows x 5 columns]"
            ]
          },
          "metadata": {
            "tags": []
          },
          "execution_count": 16
        }
      ]
    },
    {
      "cell_type": "code",
      "metadata": {
        "id": "2Ss0TNPm2sp8",
        "colab_type": "code",
        "colab": {}
      },
      "source": [
        "# shows how many movies in each genre\n",
        "\n",
        "dict_g = {}\n",
        "for i in range(len(df2)):\n",
        "    genres = eval(df2.iloc[i,0])\n",
        "    \n",
        "    for genre in genres:\n",
        "        if genre['name'] not in dict_g.keys():\n",
        "            dict_g[str(genre['name'])] = 1\n",
        "        else:\n",
        "            dict_g[str(genre['name'])] += 1"
      ],
      "execution_count": 0,
      "outputs": []
    },
    {
      "cell_type": "code",
      "metadata": {
        "id": "pkCs97Kh_b0X",
        "colab_type": "code",
        "outputId": "d9d4283d-e360-4890-c409-954a6edd0591",
        "colab": {
          "base_uri": "https://localhost:8080/",
          "height": 380
        }
      },
      "source": [
        "dict_g"
      ],
      "execution_count": 0,
      "outputs": [
        {
          "output_type": "execute_result",
          "data": {
            "text/plain": [
              "{'Action': 3050,\n",
              " 'Adventure': 1602,\n",
              " 'Animation': 918,\n",
              " 'Comedy': 6067,\n",
              " 'Crime': 1783,\n",
              " 'Documentary': 2969,\n",
              " 'Drama': 8280,\n",
              " 'Family': 1669,\n",
              " 'Fantasy': 1064,\n",
              " 'Foreign': 541,\n",
              " 'History': 526,\n",
              " 'Horror': 2458,\n",
              " 'Music': 718,\n",
              " 'Mystery': 1128,\n",
              " 'Romance': 2830,\n",
              " 'Science Fiction': 1627,\n",
              " 'TV Movie': 579,\n",
              " 'Thriller': 4316,\n",
              " 'War': 335,\n",
              " 'Western': 188}"
            ]
          },
          "metadata": {
            "tags": []
          },
          "execution_count": 18
        }
      ]
    },
    {
      "cell_type": "code",
      "metadata": {
        "id": "HKiiX0-o_b3H",
        "colab_type": "code",
        "outputId": "40a17b94-920e-4cd4-9edb-ac8095fffb5e",
        "colab": {
          "base_uri": "https://localhost:8080/",
          "height": 301
        }
      },
      "source": [
        "plt.bar( dict_g.keys(), dict_g.values(), width=1)\n",
        "plt.figure(figsize=(40,12))"
      ],
      "execution_count": 0,
      "outputs": [
        {
          "output_type": "execute_result",
          "data": {
            "text/plain": [
              "<Figure size 2880x864 with 0 Axes>"
            ]
          },
          "metadata": {
            "tags": []
          },
          "execution_count": 19
        },
        {
          "output_type": "display_data",
          "data": {
            "image/png": "[encoded data removed]",
            "text/plain": [
              "<Figure size 432x288 with 1 Axes>"
            ]
          },
          "metadata": {
            "tags": [],
            "needs_background": "light"
          }
        },
        {
          "output_type": "display_data",
          "data": {
            "text/plain": [
              "<Figure size 2880x864 with 0 Axes>"
            ]
          },
          "metadata": {
            "tags": []
          }
        }
      ]
    },
    {
      "cell_type": "code",
      "metadata": {
        "id": "x1NAOq2o_b56",
        "colab_type": "code",
        "outputId": "870642d4-6cf8-4608-ef57-4b063adcc0ef",
        "colab": {
          "base_uri": "https://localhost:8080/",
          "height": 677
        }
      },
      "source": [
        "df2.head(20)"
      ],
      "execution_count": 0,
      "outputs": [
        {
          "output_type": "execute_result",
          "data": {
            "text/html": [
              "<div>\n",
              "<style scoped>\n",
              "    .dataframe tbody tr th:only-of-type {\n",
              "        vertical-align: middle;\n",
              "    }\n",
              "\n",
              "    .dataframe tbody tr th {\n",
              "        vertical-align: top;\n",
              "    }\n",
              "\n",
              "    .dataframe thead th {\n",
              "        text-align: right;\n",
              "    }\n",
              "</style>\n",
              "<table border=\"1\" class=\"dataframe\">\n",
              "  <thead>\n",
              "    <tr style=\"text-align: right;\">\n",
              "      <th></th>\n",
              "      <th>genres</th>\n",
              "      <th>id</th>\n",
              "      <th>imdb_id</th>\n",
              "      <th>original_language</th>\n",
              "      <th>release_date</th>\n",
              "    </tr>\n",
              "  </thead>\n",
              "  <tbody>\n",
              "    <tr>\n",
              "      <th>0</th>\n",
              "      <td>[{'id': 35, 'name': 'Comedy'}, {'id': 18, 'nam...</td>\n",
              "      <td>44281</td>\n",
              "      <td>tt0090665</td>\n",
              "      <td>en</td>\n",
              "      <td>1990</td>\n",
              "    </tr>\n",
              "    <tr>\n",
              "      <th>1</th>\n",
              "      <td>[{'id': 35, 'name': 'Comedy'}, {'id': 18, 'nam...</td>\n",
              "      <td>41927</td>\n",
              "      <td>tt0100822</td>\n",
              "      <td>en</td>\n",
              "      <td>1990</td>\n",
              "    </tr>\n",
              "    <tr>\n",
              "      <th>2</th>\n",
              "      <td>[{'id': 36, 'name': 'History'}, {'id': 18, 'na...</td>\n",
              "      <td>8996</td>\n",
              "      <td>tt0099776</td>\n",
              "      <td>en</td>\n",
              "      <td>1990</td>\n",
              "    </tr>\n",
              "    <tr>\n",
              "      <th>3</th>\n",
              "      <td>[{'id': 35, 'name': 'Comedy'}, {'id': 878, 'na...</td>\n",
              "      <td>57476</td>\n",
              "      <td>tt0100670</td>\n",
              "      <td>en</td>\n",
              "      <td>1990</td>\n",
              "    </tr>\n",
              "    <tr>\n",
              "      <th>4</th>\n",
              "      <td>[{'id': 99, 'name': 'Documentary'}]</td>\n",
              "      <td>37447</td>\n",
              "      <td>tt0099121</td>\n",
              "      <td>en</td>\n",
              "      <td>1990</td>\n",
              "    </tr>\n",
              "    <tr>\n",
              "      <th>5</th>\n",
              "      <td>[{'id': 10749, 'name': 'Romance'}, {'id': 53, ...</td>\n",
              "      <td>41925</td>\n",
              "      <td>tt0099292</td>\n",
              "      <td>en</td>\n",
              "      <td>1990</td>\n",
              "    </tr>\n",
              "    <tr>\n",
              "      <th>6</th>\n",
              "      <td>[{'id': 27, 'name': 'Horror'}]</td>\n",
              "      <td>67515</td>\n",
              "      <td>tt0100079</td>\n",
              "      <td>en</td>\n",
              "      <td>1990</td>\n",
              "    </tr>\n",
              "    <tr>\n",
              "      <th>7</th>\n",
              "      <td>[{'id': 10402, 'name': 'Music'}]</td>\n",
              "      <td>44257</td>\n",
              "      <td>tt0099844</td>\n",
              "      <td>en</td>\n",
              "      <td>1990</td>\n",
              "    </tr>\n",
              "    <tr>\n",
              "      <th>8</th>\n",
              "      <td>[{'id': 28, 'name': 'Action'}, {'id': 53, 'nam...</td>\n",
              "      <td>13293</td>\n",
              "      <td>tt0099260</td>\n",
              "      <td>en</td>\n",
              "      <td>1990</td>\n",
              "    </tr>\n",
              "    <tr>\n",
              "      <th>9</th>\n",
              "      <td>[{'id': 18, 'name': 'Drama'}, {'id': 10749, 'n...</td>\n",
              "      <td>41810</td>\n",
              "      <td>tt0099017</td>\n",
              "      <td>en</td>\n",
              "      <td>1990</td>\n",
              "    </tr>\n",
              "    <tr>\n",
              "      <th>10</th>\n",
              "      <td>[{'id': 35, 'name': 'Comedy'}]</td>\n",
              "      <td>21811</td>\n",
              "      <td>tt0102940</td>\n",
              "      <td>en</td>\n",
              "      <td>1990</td>\n",
              "    </tr>\n",
              "    <tr>\n",
              "      <th>11</th>\n",
              "      <td>[{'id': 16, 'name': 'Animation'}, {'id': 10751...</td>\n",
              "      <td>13759</td>\n",
              "      <td>tt0100281</td>\n",
              "      <td>en</td>\n",
              "      <td>1990</td>\n",
              "    </tr>\n",
              "    <tr>\n",
              "      <th>12</th>\n",
              "      <td>[{'id': 18, 'name': 'Drama'}]</td>\n",
              "      <td>91138</td>\n",
              "      <td>tt0099796</td>\n",
              "      <td>en</td>\n",
              "      <td>1990</td>\n",
              "    </tr>\n",
              "    <tr>\n",
              "      <th>13</th>\n",
              "      <td>[{'id': 878, 'name': 'Science Fiction'}]</td>\n",
              "      <td>30647</td>\n",
              "      <td>tt0098962</td>\n",
              "      <td>en</td>\n",
              "      <td>1990</td>\n",
              "    </tr>\n",
              "    <tr>\n",
              "      <th>14</th>\n",
              "      <td>[{'id': 53, 'name': 'Thriller'}, {'id': 28, 'n...</td>\n",
              "      <td>31942</td>\n",
              "      <td>tt0100148</td>\n",
              "      <td>en</td>\n",
              "      <td>1990</td>\n",
              "    </tr>\n",
              "    <tr>\n",
              "      <th>15</th>\n",
              "      <td>[{'id': 12, 'name': 'Adventure'}, {'id': 14, '...</td>\n",
              "      <td>5086</td>\n",
              "      <td>tt0100448</td>\n",
              "      <td>en</td>\n",
              "      <td>1990</td>\n",
              "    </tr>\n",
              "    <tr>\n",
              "      <th>16</th>\n",
              "      <td>[{'id': 14, 'name': 'Fantasy'}, {'id': 878, 'n...</td>\n",
              "      <td>31647</td>\n",
              "      <td>tt0102569</td>\n",
              "      <td>en</td>\n",
              "      <td>1990</td>\n",
              "    </tr>\n",
              "    <tr>\n",
              "      <th>17</th>\n",
              "      <td>[{'id': 878, 'name': 'Science Fiction'}, {'id'...</td>\n",
              "      <td>24862</td>\n",
              "      <td>tt0099313</td>\n",
              "      <td>en</td>\n",
              "      <td>1990</td>\n",
              "    </tr>\n",
              "    <tr>\n",
              "      <th>18</th>\n",
              "      <td>[{'id': 10749, 'name': 'Romance'}, {'id': 36, ...</td>\n",
              "      <td>87628</td>\n",
              "      <td>tt0099655</td>\n",
              "      <td>en</td>\n",
              "      <td>1990</td>\n",
              "    </tr>\n",
              "    <tr>\n",
              "      <th>19</th>\n",
              "      <td>[{'id': 12, 'name': 'Adventure'}, {'id': 10751...</td>\n",
              "      <td>162934</td>\n",
              "      <td>tt0094333</td>\n",
              "      <td>en</td>\n",
              "      <td>1990</td>\n",
              "    </tr>\n",
              "  </tbody>\n",
              "</table>\n",
              "</div>"
            ],
            "text/plain": [
              "                                               genres  ...  release_date\n",
              "0   [{'id': 35, 'name': 'Comedy'}, {'id': 18, 'nam...  ...          1990\n",
              "1   [{'id': 35, 'name': 'Comedy'}, {'id': 18, 'nam...  ...          1990\n",
              "2   [{'id': 36, 'name': 'History'}, {'id': 18, 'na...  ...          1990\n",
              "3   [{'id': 35, 'name': 'Comedy'}, {'id': 878, 'na...  ...          1990\n",
              "4                 [{'id': 99, 'name': 'Documentary'}]  ...          1990\n",
              "5   [{'id': 10749, 'name': 'Romance'}, {'id': 53, ...  ...          1990\n",
              "6                      [{'id': 27, 'name': 'Horror'}]  ...          1990\n",
              "7                    [{'id': 10402, 'name': 'Music'}]  ...          1990\n",
              "8   [{'id': 28, 'name': 'Action'}, {'id': 53, 'nam...  ...          1990\n",
              "9   [{'id': 18, 'name': 'Drama'}, {'id': 10749, 'n...  ...          1990\n",
              "10                     [{'id': 35, 'name': 'Comedy'}]  ...          1990\n",
              "11  [{'id': 16, 'name': 'Animation'}, {'id': 10751...  ...          1990\n",
              "12                      [{'id': 18, 'name': 'Drama'}]  ...          1990\n",
              "13           [{'id': 878, 'name': 'Science Fiction'}]  ...          1990\n",
              "14  [{'id': 53, 'name': 'Thriller'}, {'id': 28, 'n...  ...          1990\n",
              "15  [{'id': 12, 'name': 'Adventure'}, {'id': 14, '...  ...          1990\n",
              "16  [{'id': 14, 'name': 'Fantasy'}, {'id': 878, 'n...  ...          1990\n",
              "17  [{'id': 878, 'name': 'Science Fiction'}, {'id'...  ...          1990\n",
              "18  [{'id': 10749, 'name': 'Romance'}, {'id': 36, ...  ...          1990\n",
              "19  [{'id': 12, 'name': 'Adventure'}, {'id': 10751...  ...          1990\n",
              "\n",
              "[20 rows x 5 columns]"
            ]
          },
          "metadata": {
            "tags": []
          },
          "execution_count": 20
        }
      ]
    },
    {
      "cell_type": "code",
      "metadata": {
        "id": "5T1cowy4Ew6f",
        "colab_type": "code",
        "outputId": "4fce39f6-26c4-48ca-d0bc-94dc57ef6a9f",
        "colab": {
          "base_uri": "https://localhost:8080/",
          "height": 35
        }
      },
      "source": [
        "df2.shape"
      ],
      "execution_count": 0,
      "outputs": [
        {
          "output_type": "execute_result",
          "data": {
            "text/plain": [
              "(19846, 5)"
            ]
          },
          "metadata": {
            "tags": []
          },
          "execution_count": 21
        }
      ]
    },
    {
      "cell_type": "code",
      "metadata": {
        "id": "UmsiU6bat-je",
        "colab_type": "code",
        "colab": {}
      },
      "source": [
        "genres_dict = {     \n",
        "     12: \"Adventure\",\n",
        "     14: \"Fantasy\",\n",
        "     16: \"Animation\",\n",
        "     18: \"Drama\",\n",
        "     27: \"Horror\", \n",
        "     28: \"Action\",\n",
        "     35: \"Comedy\",\n",
        "     36: \"History\", \n",
        "     37: \"Western\",     \n",
        "     53: \"Thriller\",\n",
        "     80: \"Crime\",  \n",
        "     99: \"Documentary\",\n",
        "     878: \"Science Fiction\", \n",
        "     9648: \"Mystery\",    \n",
        "     10402: \"Music\",     \n",
        "     10749: \"Romance\",     \n",
        "     10751: \"Family\",    \n",
        "     10752: \"War\",     \n",
        "     10769: \"Foreign\", \n",
        "     10770: \"TV Movie\", }"
      ],
      "execution_count": 0,
      "outputs": []
    },
    {
      "cell_type": "code",
      "metadata": {
        "id": "q-j3_uquEw9Q",
        "colab_type": "code",
        "colab": {}
      },
      "source": [
        "# need to extract labels(genres) of each poster now and insert into Ydata\n",
        "# and also process each poster into numpy arrays and insert into Xdata\n",
        "\n",
        "import os\n",
        "from tensorflow.keras.preprocessing import image\n",
        "\n",
        "dir = './ml-dataset/en_90/'\n",
        "dir2= './ml-dataset/images/'\n",
        "\n",
        "labels = []\n",
        "\n",
        "x_data = []\n",
        "y_data = []\n",
        "\n",
        "poster_shape = (268, 182, 3)\n",
        "\n",
        "for i,row in df2.iterrows():\n",
        "  \n",
        "  row_genre = { genre['id'] for genre in eval(row['genres']) if genre['id'] in genres_dict }\n",
        "  image_loc = dir + str(row['imdb_id']) + '.jpg'\n",
        "  image_loc2= dir2 + str(row['imdb_id']) + '.jpg'\n",
        "  \n",
        "  if os.path.exists(image_loc):\n",
        "\n",
        "    poster = cv2.imread(image_loc)\n",
        "\n",
        "    if poster.shape == poster_shape:\n",
        "      x_data.append(poster)\n",
        "      y_data.append(row_genre)\n",
        "  \n",
        "  elif os.path.exists(image_loc2):\n",
        "    \n",
        "    \n",
        "    poster = cv2.imread(image_loc2)\n",
        "    \n",
        "    if poster.shape == poster_shape:\n",
        "      x_data.append(poster)\n",
        "      y_data.append(row_genre)\n",
        "  "
      ],
      "execution_count": 0,
      "outputs": []
    },
    {
      "cell_type": "code",
      "metadata": {
        "id": "cAc0EHbPur0U",
        "colab_type": "code",
        "outputId": "1f7a131a-3007-43ef-e1d4-4490c3b3b048",
        "colab": {
          "base_uri": "https://localhost:8080/",
          "height": 287
        }
      },
      "source": [
        "plt.imshow(x_data[0])"
      ],
      "execution_count": 0,
      "outputs": [
        {
          "output_type": "execute_result",
          "data": {
            "text/plain": [
              "<matplotlib.image.AxesImage at 0x7fa1d7f66da0>"
            ]
          },
          "metadata": {
            "tags": []
          },
          "execution_count": 24
        },
        {
          "output_type": "display_data",
          "data": {
            "image/png": "[encoded data removed]",
            "text/plain": [
              "<Figure size 432x288 with 1 Axes>"
            ]
          },
          "metadata": {
            "tags": [],
            "needs_background": "light"
          }
        }
      ]
    },
    {
      "cell_type": "code",
      "metadata": {
        "id": "L4N7t-ab_cPs",
        "colab_type": "code",
        "outputId": "a0227d70-752e-4083-fb25-157e5880b9f4",
        "colab": {
          "base_uri": "https://localhost:8080/",
          "height": 35
        }
      },
      "source": [
        "len(x_data)"
      ],
      "execution_count": 0,
      "outputs": [
        {
          "output_type": "execute_result",
          "data": {
            "text/plain": [
              "18938"
            ]
          },
          "metadata": {
            "tags": []
          },
          "execution_count": 25
        }
      ]
    },
    {
      "cell_type": "code",
      "metadata": {
        "id": "X5oIDiybmohg",
        "colab_type": "code",
        "outputId": "1199a0db-ff6e-4cfa-9276-ee23436a1e30",
        "colab": {
          "base_uri": "https://localhost:8080/",
          "height": 35
        }
      },
      "source": [
        "!pip install scikit-multilearn"
      ],
      "execution_count": 0,
      "outputs": [
        {
          "output_type": "stream",
          "text": [
            "Requirement already satisfied: scikit-multilearn in /usr/local/lib/python3.6/dist-packages (0.2.0)\n"
          ],
          "name": "stdout"
        }
      ]
    },
    {
      "cell_type": "code",
      "metadata": {
        "id": "aOl8Ptqjj7ON",
        "colab_type": "code",
        "colab": {}
      },
      "source": [
        "from sklearn.preprocessing import MultiLabelBinarizer \n",
        "from skmultilearn.model_selection import iterative_train_test_split\n",
        "\n",
        "genre_list = list(genres_dict.keys())\n",
        "\n",
        "mlb = MultiLabelBinarizer(classes=genre_list)\n",
        "Y_data = mlb.fit_transform(y_data)\n",
        "\n",
        "X_data = np.array(x_data)"
      ],
      "execution_count": 0,
      "outputs": []
    },
    {
      "cell_type": "code",
      "metadata": {
        "id": "olb1RTvzj7VK",
        "colab_type": "code",
        "colab": {}
      },
      "source": [
        "X_train, Y_train, X_test, Y_test = iterative_train_test_split(X_data, Y_data, test_size = 0.33)\n"
      ],
      "execution_count": 0,
      "outputs": []
    },
    {
      "cell_type": "code",
      "metadata": {
        "id": "JlZpESHpGqmz",
        "colab_type": "code",
        "colab": {}
      },
      "source": [
        "del X_data\n",
        "del Y_data\n",
        "del df\n",
        "del df2"
      ],
      "execution_count": 0,
      "outputs": []
    },
    {
      "cell_type": "code",
      "metadata": {
        "id": "6RL378nstBWO",
        "colab_type": "code",
        "outputId": "febd84ff-9730-4812-c2da-ed62a65248f7",
        "colab": {
          "base_uri": "https://localhost:8080/",
          "height": 53
        }
      },
      "source": [
        "print(len(X_train))\n",
        "print(len(X_test))"
      ],
      "execution_count": 0,
      "outputs": [
        {
          "output_type": "stream",
          "text": [
            "12644\n",
            "6294\n"
          ],
          "name": "stdout"
        }
      ]
    },
    {
      "cell_type": "code",
      "metadata": {
        "id": "jG3T5nM1rYVo",
        "colab_type": "code",
        "outputId": "736ff867-0760-4f2f-f1d2-a3e8b9d74e6f",
        "colab": {
          "base_uri": "https://localhost:8080/",
          "height": 962
        }
      },
      "source": [
        "from tensorflow.keras.applications.vgg19 import VGG19\n",
        "from tensorflow.keras.applications.vgg19 import preprocess_input\n",
        "\n",
        "model1 = VGG19(weights='imagenet', include_top=False)\n",
        "model1.summary()"
      ],
      "execution_count": 0,
      "outputs": [
        {
          "output_type": "stream",
          "text": [
            "Model: \"vgg19\"\n",
            "_________________________________________________________________\n",
            "Layer (type)                 Output Shape              Param #   \n",
            "=================================================================\n",
            "input_1 (InputLayer)         [(None, None, None, 3)]   0         \n",
            "_________________________________________________________________\n",
            "block1_conv1 (Conv2D)        (None, None, None, 64)    1792      \n",
            "_________________________________________________________________\n",
            "block1_conv2 (Conv2D)        (None, None, None, 64)    36928     \n",
            "_________________________________________________________________\n",
            "block1_pool (MaxPooling2D)   (None, None, None, 64)    0         \n",
            "_________________________________________________________________\n",
            "block2_conv1 (Conv2D)        (None, None, None, 128)   73856     \n",
            "_________________________________________________________________\n",
            "block2_conv2 (Conv2D)        (None, None, None, 128)   147584    \n",
            "_________________________________________________________________\n",
            "block2_pool (MaxPooling2D)   (None, None, None, 128)   0         \n",
            "_________________________________________________________________\n",
            "block3_conv1 (Conv2D)        (None, None, None, 256)   295168    \n",
            "_________________________________________________________________\n",
            "block3_conv2 (Conv2D)        (None, None, None, 256)   590080    \n",
            "_________________________________________________________________\n",
            "block3_conv3 (Conv2D)        (None, None, None, 256)   590080    \n",
            "_________________________________________________________________\n",
            "block3_conv4 (Conv2D)        (None, None, None, 256)   590080    \n",
            "_________________________________________________________________\n",
            "block3_pool (MaxPooling2D)   (None, None, None, 256)   0         \n",
            "_________________________________________________________________\n",
            "block4_conv1 (Conv2D)        (None, None, None, 512)   1180160   \n",
            "_________________________________________________________________\n",
            "block4_conv2 (Conv2D)        (None, None, None, 512)   2359808   \n",
            "_________________________________________________________________\n",
            "block4_conv3 (Conv2D)        (None, None, None, 512)   2359808   \n",
            "_________________________________________________________________\n",
            "block4_conv4 (Conv2D)        (None, None, None, 512)   2359808   \n",
            "_________________________________________________________________\n",
            "block4_pool (MaxPooling2D)   (None, None, None, 512)   0         \n",
            "_________________________________________________________________\n",
            "block5_conv1 (Conv2D)        (None, None, None, 512)   2359808   \n",
            "_________________________________________________________________\n",
            "block5_conv2 (Conv2D)        (None, None, None, 512)   2359808   \n",
            "_________________________________________________________________\n",
            "block5_conv3 (Conv2D)        (None, None, None, 512)   2359808   \n",
            "_________________________________________________________________\n",
            "block5_conv4 (Conv2D)        (None, None, None, 512)   2359808   \n",
            "_________________________________________________________________\n",
            "block5_pool (MaxPooling2D)   (None, None, None, 512)   0         \n",
            "=================================================================\n",
            "Total params: 20,024,384\n",
            "Trainable params: 20,024,384\n",
            "Non-trainable params: 0\n",
            "_________________________________________________________________\n"
          ],
          "name": "stdout"
        }
      ]
    },
    {
      "cell_type": "code",
      "metadata": {
        "id": "eVkuiltqweDK",
        "colab_type": "code",
        "colab": {}
      },
      "source": [
        "X_train_pro = preprocess_input(X_train)"
      ],
      "execution_count": 0,
      "outputs": []
    },
    {
      "cell_type": "code",
      "metadata": {
        "id": "Lq-qSOFXnfqZ",
        "colab_type": "code",
        "outputId": "c3b121cd-1116-47f5-e87e-d0a1d3a38e21",
        "colab": {
          "base_uri": "https://localhost:8080/",
          "height": 35
        }
      },
      "source": [
        "X_train_pro[0].shape"
      ],
      "execution_count": 0,
      "outputs": [
        {
          "output_type": "execute_result",
          "data": {
            "text/plain": [
              "(268, 182, 3)"
            ]
          },
          "metadata": {
            "tags": []
          },
          "execution_count": 33
        }
      ]
    },
    {
      "cell_type": "code",
      "metadata": {
        "id": "m0eQQP9qteM2",
        "colab_type": "code",
        "colab": {}
      },
      "source": [
        "# need to get extracted features of our XTrain and XTest after passing through the VGG19 model\n",
        "\n",
        "train_features = model1.predict(X_train_pro)"
      ],
      "execution_count": 0,
      "outputs": []
    },
    {
      "cell_type": "code",
      "metadata": {
        "id": "ZaDE9oAWHMvI",
        "colab_type": "code",
        "outputId": "d6362732-9411-495e-ce31-3c90b6ddac7b",
        "colab": {
          "base_uri": "https://localhost:8080/",
          "height": 35
        }
      },
      "source": [
        "train_features.shape"
      ],
      "execution_count": 0,
      "outputs": [
        {
          "output_type": "execute_result",
          "data": {
            "text/plain": [
              "(12644, 8, 5, 512)"
            ]
          },
          "metadata": {
            "tags": []
          },
          "execution_count": 35
        }
      ]
    },
    {
      "cell_type": "code",
      "metadata": {
        "id": "wBkN1_Bkv0NK",
        "colab_type": "code",
        "colab": {}
      },
      "source": [
        "# features for each image have to now be transformed into a single dimensional vector of length 8*5*512\n",
        "\n",
        "features_size = 8*5*512\n",
        "\n",
        "np_features = np.zeros((train_features.shape[0], features_size))\n",
        "for i in range(train_features.shape[0]):\n",
        "    feat = train_features[i]\n",
        "    reshaped_feat = feat.reshape(1,-1)\n",
        "    np_features[i] = reshaped_feat\n"
      ],
      "execution_count": 0,
      "outputs": []
    },
    {
      "cell_type": "code",
      "metadata": {
        "id": "oU0-BGtUPnZA",
        "colab_type": "code",
        "outputId": "71f33076-5dee-4b18-c380-9c3a3ac6e8b1",
        "colab": {
          "base_uri": "https://localhost:8080/",
          "height": 35
        }
      },
      "source": [
        "print(features_size)"
      ],
      "execution_count": 0,
      "outputs": [
        {
          "output_type": "stream",
          "text": [
            "20480\n"
          ],
          "name": "stdout"
        }
      ]
    },
    {
      "cell_type": "code",
      "metadata": {
        "id": "OhFkQ126k1dh",
        "colab_type": "code",
        "colab": {}
      },
      "source": [
        "from tensorflow.keras.models import Sequential\n",
        "from tensorflow.keras.layers import Dense, Activation\n",
        "\n",
        "model = Sequential([\n",
        "    Dense(1024, input_shape=(features_size,)),\n",
        "    Activation('relu'),\n",
        "    Dense(256),\n",
        "    Activation('relu'),\n",
        "    Dense(20),\n",
        "    Activation('sigmoid'),\n",
        "])"
      ],
      "execution_count": 0,
      "outputs": []
    },
    {
      "cell_type": "code",
      "metadata": {
        "id": "fS03YQ0etBeM",
        "colab_type": "code",
        "outputId": "8648adb5-304a-4fb6-ecb8-3d472eecd842",
        "colab": {
          "base_uri": "https://localhost:8080/",
          "height": 380
        }
      },
      "source": [
        "model.compile(optimizer='adam', loss='binary_crossentropy', metrics=['categorical_accuracy']) \n",
        "\n",
        "model.summary()"
      ],
      "execution_count": 0,
      "outputs": [
        {
          "output_type": "stream",
          "text": [
            "Model: \"sequential\"\n",
            "_________________________________________________________________\n",
            "Layer (type)                 Output Shape              Param #   \n",
            "=================================================================\n",
            "dense (Dense)                (None, 1024)              20972544  \n",
            "_________________________________________________________________\n",
            "activation (Activation)      (None, 1024)              0         \n",
            "_________________________________________________________________\n",
            "dense_1 (Dense)              (None, 256)               262400    \n",
            "_________________________________________________________________\n",
            "activation_1 (Activation)    (None, 256)               0         \n",
            "_________________________________________________________________\n",
            "dense_2 (Dense)              (None, 20)                5140      \n",
            "_________________________________________________________________\n",
            "activation_2 (Activation)    (None, 20)                0         \n",
            "=================================================================\n",
            "Total params: 21,240,084\n",
            "Trainable params: 21,240,084\n",
            "Non-trainable params: 0\n",
            "_________________________________________________________________\n"
          ],
          "name": "stdout"
        }
      ]
    },
    {
      "cell_type": "code",
      "metadata": {
        "id": "7X1KYt2GtBa8",
        "colab_type": "code",
        "outputId": "025e6892-5b0a-43da-827d-77f8f9ff6e57",
        "colab": {
          "base_uri": "https://localhost:8080/",
          "height": 1000
        }
      },
      "source": [
        "history = model.fit( np_features, Y_train, batch_size=500, epochs=45, verbose=1)"
      ],
      "execution_count": 0,
      "outputs": [
        {
          "output_type": "stream",
          "text": [
            "Epoch 1/45\n",
            "26/26 [==============================] - 1s 54ms/step - loss: 4.0266 - categorical_accuracy: 0.2208\n",
            "Epoch 2/45\n",
            "26/26 [==============================] - 1s 55ms/step - loss: 0.4890 - categorical_accuracy: 0.3196\n",
            "Epoch 3/45\n",
            "26/26 [==============================] - 1s 54ms/step - loss: 0.2356 - categorical_accuracy: 0.4244\n",
            "Epoch 4/45\n",
            "26/26 [==============================] - 1s 54ms/step - loss: 0.1574 - categorical_accuracy: 0.5108\n",
            "Epoch 5/45\n",
            "26/26 [==============================] - 1s 54ms/step - loss: 0.1212 - categorical_accuracy: 0.5431\n",
            "Epoch 6/45\n",
            "26/26 [==============================] - 1s 55ms/step - loss: 0.0923 - categorical_accuracy: 0.5801\n",
            "Epoch 7/45\n",
            "26/26 [==============================] - 1s 54ms/step - loss: 0.0736 - categorical_accuracy: 0.5948\n",
            "Epoch 8/45\n",
            "26/26 [==============================] - 1s 55ms/step - loss: 0.0588 - categorical_accuracy: 0.6146\n",
            "Epoch 9/45\n",
            "26/26 [==============================] - 1s 54ms/step - loss: 0.0460 - categorical_accuracy: 0.6167\n",
            "Epoch 10/45\n",
            "26/26 [==============================] - 1s 55ms/step - loss: 0.0386 - categorical_accuracy: 0.6201\n",
            "Epoch 11/45\n",
            "26/26 [==============================] - 1s 55ms/step - loss: 0.0316 - categorical_accuracy: 0.6263\n",
            "Epoch 12/45\n",
            "26/26 [==============================] - 1s 55ms/step - loss: 0.0259 - categorical_accuracy: 0.6284\n",
            "Epoch 13/45\n",
            "26/26 [==============================] - 1s 55ms/step - loss: 0.0219 - categorical_accuracy: 0.6324\n",
            "Epoch 14/45\n",
            "26/26 [==============================] - 1s 55ms/step - loss: 0.0185 - categorical_accuracy: 0.6324\n",
            "Epoch 15/45\n",
            "26/26 [==============================] - 1s 54ms/step - loss: 0.0160 - categorical_accuracy: 0.6368\n",
            "Epoch 16/45\n",
            "26/26 [==============================] - 1s 55ms/step - loss: 0.0141 - categorical_accuracy: 0.6400\n",
            "Epoch 17/45\n",
            "26/26 [==============================] - 1s 55ms/step - loss: 0.0123 - categorical_accuracy: 0.6425\n",
            "Epoch 18/45\n",
            "26/26 [==============================] - 1s 54ms/step - loss: 0.0110 - categorical_accuracy: 0.6429\n",
            "Epoch 19/45\n",
            "26/26 [==============================] - 1s 55ms/step - loss: 0.0097 - categorical_accuracy: 0.6484\n",
            "Epoch 20/45\n",
            "26/26 [==============================] - 1s 55ms/step - loss: 0.0089 - categorical_accuracy: 0.6529\n",
            "Epoch 21/45\n",
            "26/26 [==============================] - 1s 55ms/step - loss: 0.0081 - categorical_accuracy: 0.6530\n",
            "Epoch 22/45\n",
            "26/26 [==============================] - 1s 57ms/step - loss: 0.0073 - categorical_accuracy: 0.6527\n",
            "Epoch 23/45\n",
            "26/26 [==============================] - 2s 58ms/step - loss: 0.0065 - categorical_accuracy: 0.6556\n",
            "Epoch 24/45\n",
            "26/26 [==============================] - 1s 57ms/step - loss: 0.0059 - categorical_accuracy: 0.6596\n",
            "Epoch 25/45\n",
            "26/26 [==============================] - 1s 57ms/step - loss: 0.0054 - categorical_accuracy: 0.6622\n",
            "Epoch 26/45\n",
            "26/26 [==============================] - 1s 55ms/step - loss: 0.0049 - categorical_accuracy: 0.6628\n",
            "Epoch 27/45\n",
            "26/26 [==============================] - 1s 54ms/step - loss: 0.0046 - categorical_accuracy: 0.6609\n",
            "Epoch 28/45\n",
            "26/26 [==============================] - 1s 55ms/step - loss: 0.0043 - categorical_accuracy: 0.6643\n",
            "Epoch 29/45\n",
            "26/26 [==============================] - 1s 54ms/step - loss: 0.0040 - categorical_accuracy: 0.6656\n",
            "Epoch 30/45\n",
            "26/26 [==============================] - 1s 55ms/step - loss: 0.0037 - categorical_accuracy: 0.6682\n",
            "Epoch 31/45\n",
            "26/26 [==============================] - 1s 55ms/step - loss: 0.0034 - categorical_accuracy: 0.6733\n",
            "Epoch 32/45\n",
            "26/26 [==============================] - 1s 55ms/step - loss: 0.0032 - categorical_accuracy: 0.6721\n",
            "Epoch 33/45\n",
            "26/26 [==============================] - 1s 55ms/step - loss: 0.0030 - categorical_accuracy: 0.6716\n",
            "Epoch 34/45\n",
            "26/26 [==============================] - 1s 56ms/step - loss: 0.0029 - categorical_accuracy: 0.6734\n",
            "Epoch 35/45\n",
            "26/26 [==============================] - 1s 55ms/step - loss: 0.0027 - categorical_accuracy: 0.6705\n",
            "Epoch 36/45\n",
            "26/26 [==============================] - 1s 54ms/step - loss: 0.0024 - categorical_accuracy: 0.6787\n",
            "Epoch 37/45\n",
            "26/26 [==============================] - 1s 54ms/step - loss: 0.0024 - categorical_accuracy: 0.6801\n",
            "Epoch 38/45\n",
            "26/26 [==============================] - 1s 56ms/step - loss: 0.0023 - categorical_accuracy: 0.6801\n",
            "Epoch 39/45\n",
            "26/26 [==============================] - 1s 55ms/step - loss: 0.0021 - categorical_accuracy: 0.6790\n",
            "Epoch 40/45\n",
            "26/26 [==============================] - 1s 55ms/step - loss: 0.0020 - categorical_accuracy: 0.6821\n",
            "Epoch 41/45\n",
            "26/26 [==============================] - 1s 55ms/step - loss: 0.0019 - categorical_accuracy: 0.6736\n",
            "Epoch 42/45\n",
            "26/26 [==============================] - 1s 55ms/step - loss: 0.0018 - categorical_accuracy: 0.6821\n",
            "Epoch 43/45\n",
            "26/26 [==============================] - 1s 54ms/step - loss: 0.0017 - categorical_accuracy: 0.6829\n",
            "Epoch 44/45\n",
            "26/26 [==============================] - 1s 54ms/step - loss: 0.0017 - categorical_accuracy: 0.6795\n",
            "Epoch 45/45\n",
            "26/26 [==============================] - 1s 55ms/step - loss: 0.0015 - categorical_accuracy: 0.6821\n"
          ],
          "name": "stdout"
        }
      ]
    },
    {
      "cell_type": "code",
      "metadata": {
        "id": "LmXxd_brtBSP",
        "colab_type": "code",
        "colab": {}
      },
      "source": [
        "model.save('vgg19.h5')"
      ],
      "execution_count": 0,
      "outputs": []
    },
    {
      "cell_type": "code",
      "metadata": {
        "id": "S55BLobi2chU",
        "colab_type": "code",
        "colab": {}
      },
      "source": [
        "# implementing subset accuracy\n",
        "\n",
        "def accuracy_metric( y_pred, y_data ):\n",
        "  \n",
        "  # y_pred is list of list of floats, while y_data is one hot encoded genres\n",
        "  accuracy = 0\n",
        "  \n",
        "  for i in range(len(y_pred)):\n",
        "    \n",
        "    pred_genres = y_pred[i].argsort()[-3:]                   # will return indices of top 3 predictions\n",
        "    z_pred = np.zeros(len(genres_dict))\n",
        "    z_pred[pred_genres[0]] =  1\n",
        "    z_pred[pred_genres[1]] =  1\n",
        "    z_pred[pred_genres[2]] =  1\n",
        "    \n",
        "    num = np.dot(z_pred, y_data[i])\n",
        "    denum = np.logical_or(z_pred, y_data[i]).sum()\n",
        "    accuracy += num / denum\n",
        "    \n",
        "  return accuracy / len(y_pred)"
      ],
      "execution_count": 0,
      "outputs": []
    },
    {
      "cell_type": "code",
      "metadata": {
        "id": "7PIoUXXcAUQd",
        "colab_type": "code",
        "colab": {}
      },
      "source": [
        "X_test = preprocess_input(X_test)\n",
        "test_features = model1.predict(X_test)"
      ],
      "execution_count": 0,
      "outputs": []
    },
    {
      "cell_type": "code",
      "metadata": {
        "id": "_tAVpIjK2cod",
        "colab_type": "code",
        "outputId": "a8b95cb6-474d-4e0b-a23d-3122aa9d5f55",
        "colab": {
          "base_uri": "https://localhost:8080/",
          "height": 35
        }
      },
      "source": [
        "# now we need to see subset accuracy on test data\n",
        "\n",
        "\n",
        "np_features = np.zeros((test_features.shape[0],features_size))\n",
        "for i in range(test_features.shape[0]):\n",
        "    feat = test_features[i]\n",
        "    reshaped_feat = feat.reshape(1,-1)\n",
        "    np_features[i] = reshaped_feat\n",
        "\n",
        "out = model.predict(np.array( np_features , dtype=np.float32))\n",
        "accuracy_metric(out, Y_test)*100"
      ],
      "execution_count": 0,
      "outputs": [
        {
          "output_type": "execute_result",
          "data": {
            "text/plain": [
              "27.342467757148096"
            ]
          },
          "metadata": {
            "tags": []
          },
          "execution_count": 44
        }
      ]
    },
    {
      "cell_type": "code",
      "metadata": {
        "id": "l-qzOlrK2clh",
        "colab_type": "code",
        "colab": {}
      },
      "source": [
        "# function to print poster with its true and predicted values\n",
        "\n",
        "import random\n",
        "from PIL import Image\n",
        "from matplotlib.pyplot import imshow\n",
        "\n",
        "% matplotlib inline\n",
        "\n",
        "def test_sample(sample):\n",
        "  \n",
        "  plt.imshow(X_test[sample])\n",
        "  \n",
        "  genre_ind = list(genres_dict.keys())\n",
        "\n",
        "  print('True Values :') \n",
        "\n",
        "  count = np.sum(Y_test[sample])\n",
        "  true_genres = Y_test[sample].argsort()[-count:]\n",
        "  l = []\n",
        "  for j in range(count):\n",
        "    l.append(genres_dict[genre_ind[true_genres[j]]])\n",
        "  l.sort()\n",
        "  print(l)\n",
        "  \n",
        "  print('Predicted Values')     \n",
        "  prediction = model.predict(np.array([np_features[sample]], dtype=np.int8)) \n",
        "  pred_genres = prediction[0].argsort()[-3:]                   # will return indices of top 3 predictions\n",
        "  \n",
        "  \n",
        "  l=[]\n",
        "  l.append(genres_dict[genre_ind[pred_genres[0]]])\n",
        "  l.append(genres_dict[genre_ind[pred_genres[1]]])\n",
        "  l.append(genres_dict[genre_ind[pred_genres[2]]])\n",
        "  l.sort()\n",
        "  print(l)\n",
        "  \n",
        "  print('-' * 40)"
      ],
      "execution_count": 0,
      "outputs": []
    },
    {
      "cell_type": "code",
      "metadata": {
        "id": "2mUKfnsVqfeg",
        "colab_type": "code",
        "outputId": "0d1ae9bc-ffe1-401f-c179-4c15b32b5abf",
        "colab": {
          "base_uri": "https://localhost:8080/",
          "height": 299
        }
      },
      "source": [
        "plt.plot(history.history['categorical_accuracy'])\n",
        "plt.title('Categorical Accuracy ')"
      ],
      "execution_count": 0,
      "outputs": [
        {
          "output_type": "execute_result",
          "data": {
            "text/plain": [
              "Text(0.5, 1.0, 'Categorical Accuracy ')"
            ]
          },
          "metadata": {
            "tags": []
          },
          "execution_count": 46
        },
        {
          "output_type": "display_data",
          "data": {
            "image/png": "[encoded data removed]",
            "text/plain": [
              "<Figure size 432x288 with 1 Axes>"
            ]
          },
          "metadata": {
            "tags": [],
            "needs_background": "light"
          }
        }
      ]
    },
    {
      "cell_type": "code",
      "metadata": {
        "id": "PTLozfsiQntW",
        "colab_type": "code",
        "outputId": "ca4fc66b-cd6c-44a9-bfe1-53c86ea1d419",
        "colab": {
          "base_uri": "https://localhost:8080/",
          "height": 313
        }
      },
      "source": [
        "plt.plot(history.history['loss'])\n",
        "plt.title('Training Loss')\n",
        "plt.xlabel('Epoch')\n",
        "plt.ylabel('Binary Cross-Entropy Loss')"
      ],
      "execution_count": 0,
      "outputs": [
        {
          "output_type": "execute_result",
          "data": {
            "text/plain": [
              "Text(0, 0.5, 'Binary Cross-Entropy Loss')"
            ]
          },
          "metadata": {
            "tags": []
          },
          "execution_count": 47
        },
        {
          "output_type": "display_data",
          "data": {
            "image/png": "[encoded data removed]",
            "text/plain": [
              "<Figure size 432x288 with 1 Axes>"
            ]
          },
          "metadata": {
            "tags": [],
            "needs_background": "light"
          }
        }
      ]
    },
    {
      "cell_type": "code",
      "metadata": {
        "id": "p4m9n0p2ZXf3",
        "colab_type": "code",
        "outputId": "99ebd3cb-dc27-4e87-ba33-8f589eb83871",
        "colab": {
          "base_uri": "https://localhost:8080/",
          "height": 378
        }
      },
      "source": [
        "test_sample(103)"
      ],
      "execution_count": 0,
      "outputs": [
        {
          "output_type": "stream",
          "text": [
            "Clipping input data to the valid range for imshow with RGB data ([0..1] for floats or [0..255] for integers).\n"
          ],
          "name": "stderr"
        },
        {
          "output_type": "stream",
          "text": [
            "True Values :\n",
            "['Drama']\n",
            "Predicted Values\n",
            "['Documentary', 'Drama', 'Mystery']\n",
            "----------------------------------------\n"
          ],
          "name": "stdout"
        },
        {
          "output_type": "display_data",
          "data": {
            "image/png": "[encoded data removed]",
            "text/plain": [
              "<Figure size 432x288 with 1 Axes>"
            ]
          },
          "metadata": {
            "tags": [],
            "needs_background": "light"
          }
        }
      ]
    },
    {
      "cell_type": "code",
      "metadata": {
        "id": "FQPCC5rNZXmg",
        "colab_type": "code",
        "outputId": "9e5e06c5-26da-4e9f-8097-17182e2d8f44",
        "colab": {
          "base_uri": "https://localhost:8080/",
          "height": 378
        }
      },
      "source": [
        "test_sample(309)"
      ],
      "execution_count": 0,
      "outputs": [
        {
          "output_type": "stream",
          "text": [
            "Clipping input data to the valid range for imshow with RGB data ([0..1] for floats or [0..255] for integers).\n"
          ],
          "name": "stderr"
        },
        {
          "output_type": "stream",
          "text": [
            "True Values :\n",
            "['Comedy']\n",
            "Predicted Values\n",
            "['Comedy', 'Romance', 'TV Movie']\n",
            "----------------------------------------\n"
          ],
          "name": "stdout"
        },
        {
          "output_type": "display_data",
          "data": {
            "image/png": "[encoded data removed]",
            "text/plain": [
              "<Figure size 432x288 with 1 Axes>"
            ]
          },
          "metadata": {
            "tags": [],
            "needs_background": "light"
          }
        }
      ]
    },
    {
      "cell_type": "code",
      "metadata": {
        "id": "H0s8DO1hY4h5",
        "colab_type": "code",
        "outputId": "8b5e74e7-50cc-4e38-d7e0-8b1d681d6c19",
        "colab": {
          "base_uri": "https://localhost:8080/",
          "height": 378
        }
      },
      "source": [
        "test_sample(100)"
      ],
      "execution_count": 0,
      "outputs": [
        {
          "output_type": "stream",
          "text": [
            "Clipping input data to the valid range for imshow with RGB data ([0..1] for floats or [0..255] for integers).\n"
          ],
          "name": "stderr"
        },
        {
          "output_type": "stream",
          "text": [
            "True Values :\n",
            "['Drama', 'Horror', 'Thriller']\n",
            "Predicted Values\n",
            "['Drama', 'Mystery', 'Thriller']\n",
            "----------------------------------------\n"
          ],
          "name": "stdout"
        },
        {
          "output_type": "display_data",
          "data": {
            "image/png": "[encoded data removed]",
            "text/plain": [
              "<Figure size 432x288 with 1 Axes>"
            ]
          },
          "metadata": {
            "tags": [],
            "needs_background": "light"
          }
        }
      ]
    },
    {
      "cell_type": "code",
      "metadata": {
        "id": "OP8sR4lxv0TR",
        "colab_type": "code",
        "outputId": "03d7efb0-1be9-4f6d-ca65-2cdb2349f30d",
        "colab": {
          "base_uri": "https://localhost:8080/",
          "height": 378
        }
      },
      "source": [
        "test_sample(50)"
      ],
      "execution_count": 0,
      "outputs": [
        {
          "output_type": "stream",
          "text": [
            "Clipping input data to the valid range for imshow with RGB data ([0..1] for floats or [0..255] for integers).\n"
          ],
          "name": "stderr"
        },
        {
          "output_type": "stream",
          "text": [
            "True Values :\n",
            "['Drama', 'Romance']\n",
            "Predicted Values\n",
            "['Comedy', 'Drama', 'Romance']\n",
            "----------------------------------------\n"
          ],
          "name": "stdout"
        },
        {
          "output_type": "display_data",
          "data": {
            "image/png": "[encoded data removed]",
            "text/plain": [
              "<Figure size 432x288 with 1 Axes>"
            ]
          },
          "metadata": {
            "tags": [],
            "needs_background": "light"
          }
        }
      ]
    },
    {
      "cell_type": "code",
      "metadata": {
        "id": "VR4K8bogTeUU",
        "colab_type": "code",
        "outputId": "120a51fe-8cec-4fc0-c433-be9d531ee7dd",
        "colab": {
          "base_uri": "https://localhost:8080/",
          "height": 378
        }
      },
      "source": [
        "test_sample(608)"
      ],
      "execution_count": 0,
      "outputs": [
        {
          "output_type": "stream",
          "text": [
            "Clipping input data to the valid range for imshow with RGB data ([0..1] for floats or [0..255] for integers).\n"
          ],
          "name": "stderr"
        },
        {
          "output_type": "stream",
          "text": [
            "True Values :\n",
            "['Drama', 'Romance']\n",
            "Predicted Values\n",
            "['Comedy', 'Drama', 'Romance']\n",
            "----------------------------------------\n"
          ],
          "name": "stdout"
        },
        {
          "output_type": "display_data",
          "data": {
            "image/png": "[encoded data removed]",
            "text/plain": [
              "<Figure size 432x288 with 1 Axes>"
            ]
          },
          "metadata": {
            "tags": [],
            "needs_background": "light"
          }
        }
      ]
    },
    {
      "cell_type": "code",
      "metadata": {
        "id": "_V2dOvHzpR4K",
        "colab_type": "code",
        "colab": {}
      },
      "source": [
        ""
      ],
      "execution_count": 0,
      "outputs": []
    },
    {
      "cell_type": "code",
      "metadata": {
        "id": "mcbMxEZ-pR86",
        "colab_type": "code",
        "colab": {}
      },
      "source": [
        ""
      ],
      "execution_count": 0,
      "outputs": []
    },
    {
      "cell_type": "code",
      "metadata": {
        "id": "6NcTBExLpSEE",
        "colab_type": "code",
        "colab": {}
      },
      "source": [
        ""
      ],
      "execution_count": 0,
      "outputs": []
    }
  ]
}